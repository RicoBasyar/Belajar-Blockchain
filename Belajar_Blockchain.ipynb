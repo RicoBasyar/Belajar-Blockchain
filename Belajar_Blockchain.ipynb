{
  "nbformat": 4,
  "nbformat_minor": 0,
  "metadata": {
    "colab": {
      "name": "Belajar Blockchain",
      "provenance": [],
      "collapsed_sections": [],
      "authorship_tag": "ABX9TyPopwDOZYDRiimV2iqDsw27",
      "include_colab_link": true
    },
    "kernelspec": {
      "name": "python3",
      "display_name": "Python 3"
    },
    "language_info": {
      "name": "python"
    }
  },
  "cells": [
    {
      "cell_type": "markdown",
      "metadata": {
        "id": "view-in-github",
        "colab_type": "text"
      },
      "source": [
        "<a href=\"https://colab.research.google.com/github/RicoBasyar/Belajar-Blockchain/blob/main/Belajar_Blockchain.ipynb\" target=\"_parent\"><img src=\"https://colab.research.google.com/assets/colab-badge.svg\" alt=\"Open In Colab\"/></a>"
      ]
    },
    {
      "cell_type": "code",
      "metadata": {
        "id": "jLkmKtaSPJyc"
      },
      "source": [
        "import hashlib"
      ],
      "execution_count": null,
      "outputs": []
    },
    {
      "cell_type": "code",
      "metadata": {
        "id": "fifTmZLe2L7U"
      },
      "source": [
        "'''\n",
        "Transaksi 1 = Wahyu mengirim Rp.1.500.000 ke Fajar\n",
        "Transaksi 2 = Bayu mengirim Rp.3.000.000 ke Fajar\n",
        "Transaksi 3 = Suryo mengirim Rp.6.000.000 ke Bayu\n",
        "Transaksi 4 = Suryo mengirim Rp.8.500.000 ke Wahyu\n",
        "Transaksi 5 = Fajar mengirim Rp.500.000 ke Wahyu\n",
        "'''"
      ],
      "execution_count": null,
      "outputs": []
    },
    {
      "cell_type": "code",
      "metadata": {
        "id": "I3IR7DDo23T0"
      },
      "source": [
        "class BlockChain:\n",
        "  def __init__(self, block_hash_sebelum, transaction):\n",
        "    self.block_hash_sebelum = block_hash_sebelum\n",
        "    self.transaction = transaction\n",
        "\n",
        "    self.block_data = \"-\".join(transaction) + \"-\" + block_hash_sebelum\n",
        "    self.block_hash = hashlib.sha256(self.block_data.encode()).hexdigest()"
      ],
      "execution_count": null,
      "outputs": []
    },
    {
      "cell_type": "code",
      "metadata": {
        "id": "Joh-jf-G2QST"
      },
      "source": [
        "T1 = \"Wahyu mengirim Rp.1.500.000 ke Fajar\"\n",
        "T2 = \"Bayu mengirim Rp.3.000.000 ke Fajar\"\n",
        "T3 = \"Suryo mengirim Rp.6.000.000 ke Bayu\"\n",
        "T4 = \"Suryo mengirim Rp.8.500.000 ke Wahyu\"\n",
        "T5 = \"Fajar mengirim Rp.500.000 ke Wahyu\""
      ],
      "execution_count": null,
      "outputs": []
    },
    {
      "cell_type": "markdown",
      "metadata": {
        "id": "xrnJ2DC6Ogje"
      },
      "source": [
        "Block 1"
      ]
    },
    {
      "cell_type": "code",
      "metadata": {
        "id": "0gWXsh8w2i9C",
        "colab": {
          "base_uri": "https://localhost:8080/"
        },
        "outputId": "dc98781c-439f-4ca8-f512-ae9d0f77e791"
      },
      "source": [
        "block_awal = BlockChain(\"Test\", [T1,T2])\n",
        "\n",
        "print(block_awal.block_data)\n",
        "print(block_awal.block_hash)"
      ],
      "execution_count": null,
      "outputs": [
        {
          "output_type": "stream",
          "text": [
            "Wahyu mengirim Rp.1.500.000 ke Fajar-Bayu mengirim Rp.3.000.000 ke Fajar-Test\n",
            "a16b0e1460281f98d9fe18900e9136983e6c6726885db67e0d4ed7e90c3d49df\n"
          ],
          "name": "stdout"
        }
      ]
    },
    {
      "cell_type": "markdown",
      "metadata": {
        "id": "i6SBs7MaO7LH"
      },
      "source": [
        "Block 2"
      ]
    },
    {
      "cell_type": "code",
      "metadata": {
        "colab": {
          "base_uri": "https://localhost:8080/"
        },
        "id": "S6EA145SIirb",
        "outputId": "8342616e-e33f-4a76-bf29-9dc09c277440"
      },
      "source": [
        "block_dua = BlockChain(block_awal.block_hash, [T3])\n",
        "print(block_dua.block_data)\n",
        "print(block_dua.block_hash)"
      ],
      "execution_count": null,
      "outputs": [
        {
          "output_type": "stream",
          "text": [
            "Suryo mengirim Rp.6.000.000 ke Bayu-a16b0e1460281f98d9fe18900e9136983e6c6726885db67e0d4ed7e90c3d49df\n",
            "0b4feaadbe2f2603911af6a4dc43b9e71e3a8dd7d75779d2b01675ee1e5af830\n"
          ],
          "name": "stdout"
        }
      ]
    },
    {
      "cell_type": "markdown",
      "metadata": {
        "id": "8vO2E8V1O84_"
      },
      "source": [
        "Block 3"
      ]
    },
    {
      "cell_type": "code",
      "metadata": {
        "colab": {
          "base_uri": "https://localhost:8080/"
        },
        "id": "ObYobXKZI-Ea",
        "outputId": "4dc48507-9d62-44c4-a71a-12cbff43f1e6"
      },
      "source": [
        "block_tiga = BlockChain(block_dua.block_hash, [T4,T5])\n",
        "print(block_tiga.block_data)\n",
        "print(block_tiga.block_hash)"
      ],
      "execution_count": null,
      "outputs": [
        {
          "output_type": "stream",
          "text": [
            "Suryo mengirim Rp.8.500.000 ke Wahyu-Fajar mengirim Rp.500.000 ke Wahyu-0b4feaadbe2f2603911af6a4dc43b9e71e3a8dd7d75779d2b01675ee1e5af830\n",
            "a52f1bec30e865ae736fc44215958f9c3142dde66e370a6e9b87af3395c2728e\n"
          ],
          "name": "stdout"
        }
      ]
    }
  ]
}